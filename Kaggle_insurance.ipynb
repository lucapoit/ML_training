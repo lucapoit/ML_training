{
 "cells": [
  {
   "cell_type": "code",
   "execution_count": 1,
   "id": "88352ec5",
   "metadata": {
    "_cell_guid": "b1076dfc-b9ad-4769-8c92-a6c4dae69d19",
    "_uuid": "8f2839f25d086af736a60e9eeb907d3b93b6e0e5",
    "execution": {
     "iopub.execute_input": "2024-07-15T17:56:06.890151Z",
     "iopub.status.busy": "2024-07-15T17:56:06.889369Z",
     "iopub.status.idle": "2024-07-15T17:56:07.836650Z",
     "shell.execute_reply": "2024-07-15T17:56:07.835298Z"
    },
    "papermill": {
     "duration": 0.962198,
     "end_time": "2024-07-15T17:56:07.839125",
     "exception": false,
     "start_time": "2024-07-15T17:56:06.876927",
     "status": "completed"
    },
    "tags": []
   },
   "outputs": [
    {
     "name": "stdout",
     "output_type": "stream",
     "text": [
      "/kaggle/input/binary-class-ins/train.csv/train.csv\n",
      "/kaggle/input/binary-class-ins/test.csv/test.csv\n"
     ]
    }
   ],
   "source": [
    "# This Python 3 environment comes with many helpful analytics libraries installed\n",
    "# It is defined by the kaggle/python Docker image: https://github.com/kaggle/docker-python\n",
    "# For example, here's several helpful packages to load\n",
    "\n",
    "import numpy as np # linear algebra\n",
    "import pandas as pd # data processing, CSV file I/O (e.g. pd.read_csv)\n",
    "\n",
    "# Input data files are available in the read-only \"../input/\" directory\n",
    "# For example, running this (by clicking run or pressing Shift+Enter) will list all files under the input directory\n",
    "\n",
    "import os\n",
    "for dirname, _, filenames in os.walk('/kaggle/input'):\n",
    "    for filename in filenames:\n",
    "        print(os.path.join(dirname, filename))\n",
    "\n",
    "# You can write up to 20GB to the current directory (/kaggle/working/) that gets preserved as output when you create a version using \"Save & Run All\" \n",
    "# You can also write temporary files to /kaggle/temp/, but they won't be saved outside of the current session"
   ]
  },
  {
   "cell_type": "code",
   "execution_count": 2,
   "id": "8cd79722",
   "metadata": {
    "execution": {
     "iopub.execute_input": "2024-07-15T17:56:07.854694Z",
     "iopub.status.busy": "2024-07-15T17:56:07.854150Z",
     "iopub.status.idle": "2024-07-15T17:56:21.520514Z",
     "shell.execute_reply": "2024-07-15T17:56:21.519296Z"
    },
    "papermill": {
     "duration": 13.67705,
     "end_time": "2024-07-15T17:56:21.523169",
     "exception": false,
     "start_time": "2024-07-15T17:56:07.846119",
     "status": "completed"
    },
    "tags": []
   },
   "outputs": [
    {
     "name": "stderr",
     "output_type": "stream",
     "text": [
      "2024-07-15 17:56:10.018394: E external/local_xla/xla/stream_executor/cuda/cuda_dnn.cc:9261] Unable to register cuDNN factory: Attempting to register factory for plugin cuDNN when one has already been registered\n",
      "2024-07-15 17:56:10.018584: E external/local_xla/xla/stream_executor/cuda/cuda_fft.cc:607] Unable to register cuFFT factory: Attempting to register factory for plugin cuFFT when one has already been registered\n",
      "2024-07-15 17:56:10.181392: E external/local_xla/xla/stream_executor/cuda/cuda_blas.cc:1515] Unable to register cuBLAS factory: Attempting to register factory for plugin cuBLAS when one has already been registered\n"
     ]
    }
   ],
   "source": [
    "import tensorflow as tf"
   ]
  },
  {
   "cell_type": "code",
   "execution_count": 3,
   "id": "76957a29",
   "metadata": {
    "execution": {
     "iopub.execute_input": "2024-07-15T17:56:21.538499Z",
     "iopub.status.busy": "2024-07-15T17:56:21.537177Z",
     "iopub.status.idle": "2024-07-15T17:56:21.542717Z",
     "shell.execute_reply": "2024-07-15T17:56:21.541437Z"
    },
    "papermill": {
     "duration": 0.015524,
     "end_time": "2024-07-15T17:56:21.545121",
     "exception": false,
     "start_time": "2024-07-15T17:56:21.529597",
     "status": "completed"
    },
    "tags": []
   },
   "outputs": [],
   "source": [
    "import matplotlib.pyplot as plt"
   ]
  },
  {
   "cell_type": "code",
   "execution_count": 4,
   "id": "6ce47760",
   "metadata": {
    "execution": {
     "iopub.execute_input": "2024-07-15T17:56:21.559872Z",
     "iopub.status.busy": "2024-07-15T17:56:21.559464Z",
     "iopub.status.idle": "2024-07-15T17:56:21.564362Z",
     "shell.execute_reply": "2024-07-15T17:56:21.563165Z"
    },
    "papermill": {
     "duration": 0.015107,
     "end_time": "2024-07-15T17:56:21.566786",
     "exception": false,
     "start_time": "2024-07-15T17:56:21.551679",
     "status": "completed"
    },
    "tags": []
   },
   "outputs": [],
   "source": [
    "import random"
   ]
  },
  {
   "cell_type": "code",
   "execution_count": 5,
   "id": "6a0914a9",
   "metadata": {
    "execution": {
     "iopub.execute_input": "2024-07-15T17:56:21.581541Z",
     "iopub.status.busy": "2024-07-15T17:56:21.581128Z",
     "iopub.status.idle": "2024-07-15T17:57:03.520720Z",
     "shell.execute_reply": "2024-07-15T17:57:03.519645Z"
    },
    "papermill": {
     "duration": 41.955919,
     "end_time": "2024-07-15T17:57:03.529011",
     "exception": false,
     "start_time": "2024-07-15T17:56:21.573092",
     "status": "completed"
    },
    "tags": []
   },
   "outputs": [
    {
     "data": {
      "text/plain": [
       "(3000000, 16)"
      ]
     },
     "execution_count": 5,
     "metadata": {},
     "output_type": "execute_result"
    }
   ],
   "source": [
    "df_train = pd.read_csv('/kaggle/input/binary-class-ins/train.csv/train.csv')\n",
    "df_test = pd.read_csv('/kaggle/input/binary-class-ins/test.csv/test.csv')\n",
    "df_train = pd.get_dummies(df_train)\n",
    "df_test = pd.get_dummies(df_test)\n",
    "\n",
    "gb = df_train.groupby('Response')    \n",
    "df_yes = gb.get_group(1) \n",
    "df_no = gb.get_group(0)\n",
    "\n",
    "df_samples=df_no.sample(3000000)\n",
    "df_samples.shape"
   ]
  },
  {
   "cell_type": "code",
   "execution_count": 6,
   "id": "c991c0db",
   "metadata": {
    "execution": {
     "iopub.execute_input": "2024-07-15T17:57:03.543190Z",
     "iopub.status.busy": "2024-07-15T17:57:03.542781Z",
     "iopub.status.idle": "2024-07-15T17:57:06.538671Z",
     "shell.execute_reply": "2024-07-15T17:57:06.537560Z"
    },
    "papermill": {
     "duration": 3.006083,
     "end_time": "2024-07-15T17:57:06.541253",
     "exception": false,
     "start_time": "2024-07-15T17:57:03.535170",
     "status": "completed"
    },
    "tags": []
   },
   "outputs": [],
   "source": [
    "frames = [df_yes, df_samples]\n",
    "X_train = pd.concat(frames)\n",
    "X_train = X_train.sample(frac=1)\n",
    "X_train = X_train.sort_index()\n",
    "X_train.head()\n",
    "X_train.set_index('id', inplace=True)"
   ]
  },
  {
   "cell_type": "code",
   "execution_count": 7,
   "id": "692f4832",
   "metadata": {
    "execution": {
     "iopub.execute_input": "2024-07-15T17:57:06.556440Z",
     "iopub.status.busy": "2024-07-15T17:57:06.555439Z",
     "iopub.status.idle": "2024-07-15T17:57:06.562642Z",
     "shell.execute_reply": "2024-07-15T17:57:06.561369Z"
    },
    "papermill": {
     "duration": 0.01696,
     "end_time": "2024-07-15T17:57:06.564805",
     "exception": false,
     "start_time": "2024-07-15T17:57:06.547845",
     "status": "completed"
    },
    "tags": []
   },
   "outputs": [
    {
     "data": {
      "text/plain": [
       "\"plt.figure(figsize=(6,6))\\nplt.subplot(1,2,1)\\nplt.hist(df_yes['Vehicle_Age_1-2 Year'].astype(int))\\nplt.subplot(1,2,2)\\nplt.hist(df_no['Vehicle_Age_1-2 Year'].astype(int))\\n\\n#drop region_code\\n#drop driving license \\n#drop Annual Premium\\n#drop Vehicle_Age_> 2 Years\\n#drop Gender Female\\n#Policy sales Channel, Age, Vehicle Damage,Previously\""
      ]
     },
     "execution_count": 7,
     "metadata": {},
     "output_type": "execute_result"
    }
   ],
   "source": [
    "'''plt.figure(figsize=(6,6))\n",
    "plt.subplot(1,2,1)\n",
    "plt.hist(df_yes['Vehicle_Age_1-2 Year'].astype(int))\n",
    "plt.subplot(1,2,2)\n",
    "plt.hist(df_no['Vehicle_Age_1-2 Year'].astype(int))\n",
    "\n",
    "#drop region_code\n",
    "#drop driving license \n",
    "#drop Annual Premium\n",
    "#drop Vehicle_Age_> 2 Years\n",
    "#drop Gender Female\n",
    "#Policy sales Channel, Age, Vehicle Damage,Previously'''"
   ]
  },
  {
   "cell_type": "code",
   "execution_count": 8,
   "id": "93ed7c5f",
   "metadata": {
    "execution": {
     "iopub.execute_input": "2024-07-15T17:57:06.579333Z",
     "iopub.status.busy": "2024-07-15T17:57:06.578974Z",
     "iopub.status.idle": "2024-07-15T17:57:06.591674Z",
     "shell.execute_reply": "2024-07-15T17:57:06.590391Z"
    },
    "papermill": {
     "duration": 0.02283,
     "end_time": "2024-07-15T17:57:06.594069",
     "exception": false,
     "start_time": "2024-07-15T17:57:06.571239",
     "status": "completed"
    },
    "tags": []
   },
   "outputs": [],
   "source": [
    "y_train = pd.DataFrame(X_train['Response'])"
   ]
  },
  {
   "cell_type": "code",
   "execution_count": 9,
   "id": "6e125013",
   "metadata": {
    "execution": {
     "iopub.execute_input": "2024-07-15T17:57:06.608674Z",
     "iopub.status.busy": "2024-07-15T17:57:06.608258Z",
     "iopub.status.idle": "2024-07-15T17:57:07.304803Z",
     "shell.execute_reply": "2024-07-15T17:57:07.303534Z"
    },
    "papermill": {
     "duration": 0.706846,
     "end_time": "2024-07-15T17:57:07.307485",
     "exception": false,
     "start_time": "2024-07-15T17:57:06.600639",
     "status": "completed"
    },
    "tags": []
   },
   "outputs": [],
   "source": [
    "X_train = X_train.drop('Response',axis=1)\n",
    "X_train = X_train.drop('Driving_License', axis=1)\n",
    "X_train = X_train.drop('Region_Code', axis=1)\n",
    "X_train = X_train.drop('Annual_Premium', axis=1)\n",
    "X_train = X_train.drop('Vehicle_Age_1-2 Year', axis=1)\n",
    "X_train = X_train.drop('Gender_Female', axis=1)\n",
    "X_train = X_train.drop('Vehicle_Damage_No', axis=1)"
   ]
  },
  {
   "cell_type": "code",
   "execution_count": 10,
   "id": "3f808aa4",
   "metadata": {
    "execution": {
     "iopub.execute_input": "2024-07-15T17:57:07.322632Z",
     "iopub.status.busy": "2024-07-15T17:57:07.322226Z",
     "iopub.status.idle": "2024-07-15T17:57:07.327123Z",
     "shell.execute_reply": "2024-07-15T17:57:07.326053Z"
    },
    "papermill": {
     "duration": 0.015254,
     "end_time": "2024-07-15T17:57:07.329530",
     "exception": false,
     "start_time": "2024-07-15T17:57:07.314276",
     "status": "completed"
    },
    "tags": []
   },
   "outputs": [],
   "source": [
    "X_test = df_test"
   ]
  },
  {
   "cell_type": "code",
   "execution_count": 11,
   "id": "917426a0",
   "metadata": {
    "execution": {
     "iopub.execute_input": "2024-07-15T17:57:07.344401Z",
     "iopub.status.busy": "2024-07-15T17:57:07.343985Z",
     "iopub.status.idle": "2024-07-15T17:57:08.328553Z",
     "shell.execute_reply": "2024-07-15T17:57:08.327426Z"
    },
    "papermill": {
     "duration": 0.99499,
     "end_time": "2024-07-15T17:57:08.331158",
     "exception": false,
     "start_time": "2024-07-15T17:57:07.336168",
     "status": "completed"
    },
    "tags": []
   },
   "outputs": [],
   "source": [
    "X_test = X_test.drop('Driving_License', axis=1)\n",
    "X_test = X_test.drop('Region_Code', axis=1)\n",
    "X_test = X_test.drop('Annual_Premium', axis=1)\n",
    "X_test = X_test.drop('Vehicle_Age_1-2 Year', axis=1)\n",
    "X_test = X_test.drop('Gender_Female', axis=1)\n",
    "X_test = X_test.drop('Vehicle_Damage_No', axis=1)\n",
    "\n",
    "X_test.set_index('id', inplace=True)"
   ]
  },
  {
   "cell_type": "code",
   "execution_count": 12,
   "id": "e910d13f",
   "metadata": {
    "execution": {
     "iopub.execute_input": "2024-07-15T17:57:08.347143Z",
     "iopub.status.busy": "2024-07-15T17:57:08.346175Z",
     "iopub.status.idle": "2024-07-15T17:57:08.453456Z",
     "shell.execute_reply": "2024-07-15T17:57:08.452308Z"
    },
    "papermill": {
     "duration": 0.117683,
     "end_time": "2024-07-15T17:57:08.456136",
     "exception": false,
     "start_time": "2024-07-15T17:57:08.338453",
     "status": "completed"
    },
    "tags": []
   },
   "outputs": [],
   "source": [
    "X_train[\"Gender_Male\"] = X_train[\"Gender_Male\"].astype(int)\n",
    "X_train[\"Vehicle_Age_< 1 Year\"] = X_train[\"Vehicle_Age_< 1 Year\"].astype(int)\n",
    "X_train[\"Vehicle_Age_> 2 Years\"] = X_train[\"Vehicle_Age_> 2 Years\"].astype(int)\n",
    "X_train[\"Vehicle_Damage_Yes\"] = X_train[\"Vehicle_Damage_Yes\"].astype(int)"
   ]
  },
  {
   "cell_type": "code",
   "execution_count": 13,
   "id": "7d63caab",
   "metadata": {
    "execution": {
     "iopub.execute_input": "2024-07-15T17:57:08.470769Z",
     "iopub.status.busy": "2024-07-15T17:57:08.470388Z",
     "iopub.status.idle": "2024-07-15T17:57:08.628685Z",
     "shell.execute_reply": "2024-07-15T17:57:08.627580Z"
    },
    "papermill": {
     "duration": 0.168601,
     "end_time": "2024-07-15T17:57:08.631315",
     "exception": false,
     "start_time": "2024-07-15T17:57:08.462714",
     "status": "completed"
    },
    "tags": []
   },
   "outputs": [],
   "source": [
    "X_test[\"Gender_Male\"] = X_test[\"Gender_Male\"].astype(int)\n",
    "X_test[\"Vehicle_Age_< 1 Year\"] = X_test[\"Vehicle_Age_< 1 Year\"].astype(int)\n",
    "X_test[\"Vehicle_Age_> 2 Years\"] = X_test[\"Vehicle_Age_> 2 Years\"].astype(int)\n",
    "X_test[\"Vehicle_Damage_Yes\"] = X_test[\"Vehicle_Damage_Yes\"].astype(int)"
   ]
  },
  {
   "cell_type": "code",
   "execution_count": 14,
   "id": "e904a612",
   "metadata": {
    "execution": {
     "iopub.execute_input": "2024-07-15T17:57:08.647007Z",
     "iopub.status.busy": "2024-07-15T17:57:08.646585Z",
     "iopub.status.idle": "2024-07-15T17:57:08.822066Z",
     "shell.execute_reply": "2024-07-15T17:57:08.820812Z"
    },
    "papermill": {
     "duration": 0.186159,
     "end_time": "2024-07-15T17:57:08.824769",
     "exception": false,
     "start_time": "2024-07-15T17:57:08.638610",
     "status": "completed"
    },
    "tags": []
   },
   "outputs": [],
   "source": [
    "X_train['Vintage'] = X_train['Vintage']/X_train['Vintage'].max()\n",
    "X_train['Policy_Sales_Channel'] = X_train['Policy_Sales_Channel']/X_train['Policy_Sales_Channel'].max()\n",
    "\n",
    "X_test['Vintage'] = X_test['Vintage']/X_test['Vintage'].max()\n",
    "X_test['Policy_Sales_Channel'] = X_test['Policy_Sales_Channel']/X_test['Policy_Sales_Channel'].max()"
   ]
  },
  {
   "cell_type": "code",
   "execution_count": 15,
   "id": "799ab0ed",
   "metadata": {
    "execution": {
     "iopub.execute_input": "2024-07-15T17:57:08.839269Z",
     "iopub.status.busy": "2024-07-15T17:57:08.838866Z",
     "iopub.status.idle": "2024-07-15T17:57:08.845051Z",
     "shell.execute_reply": "2024-07-15T17:57:08.843881Z"
    },
    "papermill": {
     "duration": 0.016233,
     "end_time": "2024-07-15T17:57:08.847446",
     "exception": false,
     "start_time": "2024-07-15T17:57:08.831213",
     "status": "completed"
    },
    "tags": []
   },
   "outputs": [],
   "source": [
    "X_val = X_train[3800000:]\n",
    "X_train = X_train[:3800000]\n",
    "\n",
    "y_val = y_train[3800000:]\n",
    "y_train = y_train[:3800000]"
   ]
  },
  {
   "cell_type": "code",
   "execution_count": 16,
   "id": "01b0cf25",
   "metadata": {
    "execution": {
     "iopub.execute_input": "2024-07-15T17:57:08.862263Z",
     "iopub.status.busy": "2024-07-15T17:57:08.861871Z",
     "iopub.status.idle": "2024-07-15T17:57:08.976296Z",
     "shell.execute_reply": "2024-07-15T17:57:08.975097Z"
    },
    "papermill": {
     "duration": 0.124829,
     "end_time": "2024-07-15T17:57:08.978920",
     "exception": false,
     "start_time": "2024-07-15T17:57:08.854091",
     "status": "completed"
    },
    "tags": []
   },
   "outputs": [],
   "source": [
    "y_train_np = y_train['Response'].to_numpy()\n",
    "y_val_np = y_val['Response'].to_numpy()\n",
    "X_train_np = X_train.to_numpy()\n",
    "X_val_np  = X_val.to_numpy()"
   ]
  },
  {
   "cell_type": "code",
   "execution_count": 17,
   "id": "bcd1eeca",
   "metadata": {
    "execution": {
     "iopub.execute_input": "2024-07-15T17:57:08.993674Z",
     "iopub.status.busy": "2024-07-15T17:57:08.993240Z",
     "iopub.status.idle": "2024-07-15T17:57:46.922304Z",
     "shell.execute_reply": "2024-07-15T17:57:46.921013Z"
    },
    "papermill": {
     "duration": 37.939471,
     "end_time": "2024-07-15T17:57:46.924944",
     "exception": false,
     "start_time": "2024-07-15T17:57:08.985473",
     "status": "completed"
    },
    "tags": []
   },
   "outputs": [
    {
     "name": "stdout",
     "output_type": "stream",
     "text": [
      "Epoch 1/5\n",
      "\u001b[1m3711/3711\u001b[0m \u001b[32m━━━━━━━━━━━━━━━━━━━━\u001b[0m\u001b[37m\u001b[0m \u001b[1m9s\u001b[0m 2ms/step - accuracy: 0.7439 - loss: 0.4574 - prc: 0.5869 - recall: 0.6469\n",
      "Epoch 2/5\n",
      "\u001b[1m3711/3711\u001b[0m \u001b[32m━━━━━━━━━━━━━━━━━━━━\u001b[0m\u001b[37m\u001b[0m \u001b[1m7s\u001b[0m 2ms/step - accuracy: 0.7691 - loss: 0.4078 - prc: 0.6329 - recall: 0.7771\n",
      "Epoch 3/5\n",
      "\u001b[1m3711/3711\u001b[0m \u001b[32m━━━━━━━━━━━━━━━━━━━━\u001b[0m\u001b[37m\u001b[0m \u001b[1m7s\u001b[0m 2ms/step - accuracy: 0.7705 - loss: 0.4063 - prc: 0.6437 - recall: 0.7693\n",
      "Epoch 4/5\n",
      "\u001b[1m3711/3711\u001b[0m \u001b[32m━━━━━━━━━━━━━━━━━━━━\u001b[0m\u001b[37m\u001b[0m \u001b[1m7s\u001b[0m 2ms/step - accuracy: 0.7706 - loss: 0.4060 - prc: 0.6451 - recall: 0.7686\n",
      "Epoch 5/5\n",
      "\u001b[1m3711/3711\u001b[0m \u001b[32m━━━━━━━━━━━━━━━━━━━━\u001b[0m\u001b[37m\u001b[0m \u001b[1m7s\u001b[0m 2ms/step - accuracy: 0.7707 - loss: 0.4061 - prc: 0.6454 - recall: 0.7675\n"
     ]
    }
   ],
   "source": [
    "model = tf.keras.Sequential([\n",
    "    tf.keras.layers.Dense(10,activation='relu'),\n",
    "    tf.keras.layers.Dense(10,activation='relu'),\n",
    "    tf.keras.layers.Dense(10,activation='relu'),\n",
    "    #tf.keras.layers.Dropout(0.5),\n",
    "    tf.keras.layers.Dense(1,activation='sigmoid'),\n",
    "])\n",
    "\n",
    "METRICS = [\n",
    "      #tf.keras.metrics.TruePositives(name='tp'),\n",
    "      #tf.keras.metrics.FalsePositives(name='fp'),\n",
    "      #tf.keras.metrics.TrueNegatives(name='tn'),\n",
    "      #tf.keras.metrics.FalseNegatives(name='fn'), \n",
    "      tf.keras.metrics.BinaryAccuracy(name='accuracy'),\n",
    "      #tf.keras.metrics.Precision(name='precision'),\n",
    "      tf.keras.metrics.Recall(name='recall'),\n",
    "      #tf.keras.metrics.AUC(name='auc'),\n",
    "      tf.keras.metrics.AUC(name='prc', curve='PR'), # precision-recall curve\n",
    "]\n",
    "\n",
    "model.compile(\n",
    "    loss='binary_crossentropy',\n",
    "    optimizer=tf.keras.optimizers.Adam(0.01),\n",
    "    metrics=METRICS\n",
    ")\n",
    "\n",
    "\n",
    "epochs=5 \n",
    "batch_size=1024\n",
    "history = model.fit(X_train_np, y_train_np, batch_size=batch_size, epochs = epochs)"
   ]
  },
  {
   "cell_type": "code",
   "execution_count": 18,
   "id": "ec02e1f9",
   "metadata": {
    "execution": {
     "iopub.execute_input": "2024-07-15T17:57:47.028904Z",
     "iopub.status.busy": "2024-07-15T17:57:47.028497Z",
     "iopub.status.idle": "2024-07-15T18:04:14.226581Z",
     "shell.execute_reply": "2024-07-15T18:04:14.225283Z"
    },
    "papermill": {
     "duration": 387.254033,
     "end_time": "2024-07-15T18:04:14.229885",
     "exception": false,
     "start_time": "2024-07-15T17:57:46.975852",
     "status": "completed"
    },
    "tags": []
   },
   "outputs": [
    {
     "name": "stdout",
     "output_type": "stream",
     "text": [
      "\u001b[1m239684/239684\u001b[0m \u001b[32m━━━━━━━━━━━━━━━━━━━━\u001b[0m\u001b[37m\u001b[0m \u001b[1m255s\u001b[0m 1ms/step\n"
     ]
    }
   ],
   "source": [
    "X_test_np = X_test.to_numpy()\n",
    "pred = model.predict(X_test_np)"
   ]
  },
  {
   "cell_type": "code",
   "execution_count": 19,
   "id": "4195ac31",
   "metadata": {
    "_kg_hide-input": true,
    "_kg_hide-output": true,
    "execution": {
     "iopub.execute_input": "2024-07-15T18:04:15.010997Z",
     "iopub.status.busy": "2024-07-15T18:04:15.010579Z",
     "iopub.status.idle": "2024-07-15T18:04:15.049275Z",
     "shell.execute_reply": "2024-07-15T18:04:15.047983Z"
    },
    "papermill": {
     "duration": 0.433771,
     "end_time": "2024-07-15T18:04:15.051856",
     "exception": false,
     "start_time": "2024-07-15T18:04:14.618085",
     "status": "completed"
    },
    "tags": []
   },
   "outputs": [],
   "source": [
    "X_test.reset_index(level=0, inplace=True)\n",
    "X_test.insert(1, \"Response\", pred)"
   ]
  },
  {
   "cell_type": "code",
   "execution_count": 20,
   "id": "95364576",
   "metadata": {
    "execution": {
     "iopub.execute_input": "2024-07-15T18:04:15.887810Z",
     "iopub.status.busy": "2024-07-15T18:04:15.887406Z",
     "iopub.status.idle": "2024-07-15T18:04:16.018230Z",
     "shell.execute_reply": "2024-07-15T18:04:16.017030Z"
    },
    "papermill": {
     "duration": 0.582742,
     "end_time": "2024-07-15T18:04:16.020771",
     "exception": false,
     "start_time": "2024-07-15T18:04:15.438029",
     "status": "completed"
    },
    "tags": []
   },
   "outputs": [
    {
     "data": {
      "text/html": [
       "<div>\n",
       "<style scoped>\n",
       "    .dataframe tbody tr th:only-of-type {\n",
       "        vertical-align: middle;\n",
       "    }\n",
       "\n",
       "    .dataframe tbody tr th {\n",
       "        vertical-align: top;\n",
       "    }\n",
       "\n",
       "    .dataframe thead th {\n",
       "        text-align: right;\n",
       "    }\n",
       "</style>\n",
       "<table border=\"1\" class=\"dataframe\">\n",
       "  <thead>\n",
       "    <tr style=\"text-align: right;\">\n",
       "      <th></th>\n",
       "      <th>id</th>\n",
       "      <th>Response</th>\n",
       "    </tr>\n",
       "  </thead>\n",
       "  <tbody>\n",
       "    <tr>\n",
       "      <th>0</th>\n",
       "      <td>11504798</td>\n",
       "      <td>0.039964</td>\n",
       "    </tr>\n",
       "    <tr>\n",
       "      <th>1</th>\n",
       "      <td>11504799</td>\n",
       "      <td>0.578152</td>\n",
       "    </tr>\n",
       "    <tr>\n",
       "      <th>2</th>\n",
       "      <td>11504800</td>\n",
       "      <td>0.618816</td>\n",
       "    </tr>\n",
       "    <tr>\n",
       "      <th>3</th>\n",
       "      <td>11504801</td>\n",
       "      <td>0.000130</td>\n",
       "    </tr>\n",
       "    <tr>\n",
       "      <th>4</th>\n",
       "      <td>11504802</td>\n",
       "      <td>0.071221</td>\n",
       "    </tr>\n",
       "  </tbody>\n",
       "</table>\n",
       "</div>"
      ],
      "text/plain": [
       "         id  Response\n",
       "0  11504798  0.039964\n",
       "1  11504799  0.578152\n",
       "2  11504800  0.618816\n",
       "3  11504801  0.000130\n",
       "4  11504802  0.071221"
      ]
     },
     "execution_count": 20,
     "metadata": {},
     "output_type": "execute_result"
    }
   ],
   "source": [
    "submission = X_test[['id','Response']].copy()\n",
    "submission.head()"
   ]
  },
  {
   "cell_type": "code",
   "execution_count": 21,
   "id": "9b1333d3",
   "metadata": {
    "execution": {
     "iopub.execute_input": "2024-07-15T18:04:16.795059Z",
     "iopub.status.busy": "2024-07-15T18:04:16.794674Z",
     "iopub.status.idle": "2024-07-15T18:04:30.096467Z",
     "shell.execute_reply": "2024-07-15T18:04:30.095184Z"
    },
    "papermill": {
     "duration": 13.693267,
     "end_time": "2024-07-15T18:04:30.099077",
     "exception": false,
     "start_time": "2024-07-15T18:04:16.405810",
     "status": "completed"
    },
    "tags": []
   },
   "outputs": [],
   "source": [
    "submission.to_csv('1stSubmission.csv', encoding='utf-8', index=False)"
   ]
  },
  {
   "cell_type": "code",
   "execution_count": 22,
   "id": "206a2a3f",
   "metadata": {
    "execution": {
     "iopub.execute_input": "2024-07-15T18:04:30.862239Z",
     "iopub.status.busy": "2024-07-15T18:04:30.861867Z",
     "iopub.status.idle": "2024-07-15T18:04:30.869057Z",
     "shell.execute_reply": "2024-07-15T18:04:30.867957Z"
    },
    "papermill": {
     "duration": 0.389205,
     "end_time": "2024-07-15T18:04:30.871531",
     "exception": false,
     "start_time": "2024-07-15T18:04:30.482326",
     "status": "completed"
    },
    "tags": []
   },
   "outputs": [
    {
     "data": {
      "text/plain": [
       "'from sklearn.svm import LinearSVC\\nfrom sklearn.pipeline import make_pipeline\\nfrom sklearn.preprocessing import StandardScaler\\n\\n#X_train_np, y_train_np = make_classification(random_state=0)\\n#clf = make_pipeline(StandardScaler(),\\n                    #LinearSVC(random_state=0, tol=1e-5))\\n    \\nclf = make_pipeline(LinearSVC(random_state=0, tol=1e-5))\\nclf.fit(X_train_np, y_train_np)'"
      ]
     },
     "execution_count": 22,
     "metadata": {},
     "output_type": "execute_result"
    }
   ],
   "source": [
    ""
   ]
  },
  {
   "cell_type": "code",
   "execution_count": null,
   "id": "b0497bc0",
   "metadata": {
    "execution": {
     "iopub.execute_input": "2024-07-15T00:33:17.373234Z",
     "iopub.status.busy": "2024-07-15T00:33:17.372797Z",
     "iopub.status.idle": "2024-07-15T00:35:36.835315Z",
     "shell.execute_reply": "2024-07-15T00:35:36.834038Z",
     "shell.execute_reply.started": "2024-07-15T00:33:17.373198Z"
    },
    "papermill": {
     "duration": 0.378395,
     "end_time": "2024-07-15T18:04:31.693595",
     "exception": false,
     "start_time": "2024-07-15T18:04:31.315200",
     "status": "completed"
    },
    "tags": []
   },
   "outputs": [],
   "source": []
  },
  {
   "cell_type": "code",
   "execution_count": null,
   "id": "d4f35f0a",
   "metadata": {
    "execution": {
     "iopub.execute_input": "2024-07-15T00:10:52.032039Z",
     "iopub.status.busy": "2024-07-15T00:10:52.031572Z",
     "iopub.status.idle": "2024-07-15T00:10:52.403624Z",
     "shell.execute_reply": "2024-07-15T00:10:52.402247Z",
     "shell.execute_reply.started": "2024-07-15T00:10:52.032004Z"
    },
    "papermill": {
     "duration": 0.382,
     "end_time": "2024-07-15T18:04:32.449628",
     "exception": false,
     "start_time": "2024-07-15T18:04:32.067628",
     "status": "completed"
    },
    "tags": []
   },
   "outputs": [],
   "source": []
  },
  {
   "cell_type": "code",
   "execution_count": null,
   "id": "7b9d7f63",
   "metadata": {
    "papermill": {
     "duration": 0.44564,
     "end_time": "2024-07-15T18:04:33.271664",
     "exception": false,
     "start_time": "2024-07-15T18:04:32.826024",
     "status": "completed"
    },
    "tags": []
   },
   "outputs": [],
   "source": []
  }
 ],
 "metadata": {
  "kaggle": {
   "accelerator": "none",
   "dataSources": [
    {
     "datasetId": 5388700,
     "sourceId": 8953982,
     "sourceType": "datasetVersion"
    },
    {
     "datasetId": 5393573,
     "sourceId": 8960976,
     "sourceType": "datasetVersion"
    }
   ],
   "isGpuEnabled": false,
   "isInternetEnabled": true,
   "language": "python",
   "sourceType": "notebook"
  },
  "kernelspec": {
   "display_name": "Python 3",
   "language": "python",
   "name": "python3"
  },
  "language_info": {
   "codemirror_mode": {
    "name": "ipython",
    "version": 3
   },
   "file_extension": ".py",
   "mimetype": "text/x-python",
   "name": "python",
   "nbconvert_exporter": "python",
   "pygments_lexer": "ipython3",
   "version": "3.10.13"
  },
  "papermill": {
   "default_parameters": {},
   "duration": 512.454387,
   "end_time": "2024-07-15T18:04:36.420340",
   "environment_variables": {},
   "exception": null,
   "input_path": "__notebook__.ipynb",
   "output_path": "__notebook__.ipynb",
   "parameters": {},
   "start_time": "2024-07-15T17:56:03.965953",
   "version": "2.5.0"
  }
 },
 "nbformat": 4,
 "nbformat_minor": 5
}
